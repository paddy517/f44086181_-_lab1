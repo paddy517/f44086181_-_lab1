{
 "cells": [
  {
   "cell_type": "code",
   "execution_count": 1,
   "id": "218d4885",
   "metadata": {},
   "outputs": [
    {
     "name": "stdout",
     "output_type": "stream",
     "text": [
      "Enter the number of smallest and largest values to remove:2\n",
      "Enter a value (q or Q to quit):58\n",
      "Enter a value (q or Q to quit):98\n",
      "Enter a value (q or Q to quit):74\n",
      "Enter a value (q or Q to quit):65\n",
      "Enter a value (q or Q to quit):1\n",
      "Enter a value (q or Q to quit):2\n",
      "Enter a value (q or Q to quit):5\n",
      "Enter a value (q or Q to quit):6\n",
      "Enter a value (q or Q to quit):3\n",
      "Enter a value (q or Q to quit):Q\n",
      "The original data:[58, 98, 74, 65, 1, 2, 5, 6, 3]\n",
      "The data with the outliers removed:[3, 5, 6, 58, 65]\n",
      "The outliers:[1, 2, 74, 98]\n"
     ]
    }
   ],
   "source": [
    "num= eval(input('Enter the number of smallest and largest values to remove:'))\n",
    "val=[]\n",
    "outliers=[]\n",
    "#設定函式，將輸入創成串列\n",
    "def produce_value(a=num):\n",
    "    while(True):\n",
    "        value=(input('Enter a value (q or Q to quit):'))\n",
    "        if (value=='q' or value == 'Q'):\n",
    "            print(f'The original data:{val}')\n",
    "            break\n",
    "        else:\n",
    "            value= int(value)\n",
    "            val.append(value)\n",
    "    return val\n",
    "produce_value()\n",
    "\n",
    "#判斷是否超過刪除數目\n",
    "if len(val)>= num*2:\n",
    "    val.sort()\n",
    "    #創建outliers串列\n",
    "    for i in range(num):\n",
    "        outliers.append(val[i])\n",
    "    for i in range(len(val)-num,len(val)):\n",
    "        outliers.append(val[i])\n",
    "    #將原串列移除包含outliers的數字\n",
    "    for i in outliers:\n",
    "        val.remove(i)\n",
    "    print(f'The data with the outliers removed:{val}')\n",
    "    print(f'The outliers:{outliers}')\n",
    "#未超過刪除數目\n",
    "else:\n",
    "    print(f'The data with the outliers removed:[]')\n",
    "    print(f'The outliers:{val}')"
   ]
  },
  {
   "cell_type": "code",
   "execution_count": null,
   "id": "cbe260d4",
   "metadata": {},
   "outputs": [],
   "source": []
  }
 ],
 "metadata": {
  "kernelspec": {
   "display_name": "Python 3",
   "language": "python",
   "name": "python3"
  },
  "language_info": {
   "codemirror_mode": {
    "name": "ipython",
    "version": 3
   },
   "file_extension": ".py",
   "mimetype": "text/x-python",
   "name": "python",
   "nbconvert_exporter": "python",
   "pygments_lexer": "ipython3",
   "version": "3.8.10"
  }
 },
 "nbformat": 4,
 "nbformat_minor": 5
}
