{
 "cells": [
  {
   "cell_type": "code",
   "execution_count": null,
   "id": "3d7a859d",
   "metadata": {},
   "outputs": [],
   "source": [
    "import random# 匯入random模組\n",
    "\n",
    "#創立類別\n",
    "class Nine_Coins:\n",
    "     #設定初始參數\n",
    "    def __init__(self,num):\n",
    "        self.num =  num\n",
    "        num=format(num,'b') #轉換二進位(轉型成字串)\n",
    "        z='0'*(9-len(num))#計算需要加上多少個 0\n",
    "        num=z+num\n",
    "        num=list(num)#轉型成串列 並把 0 1 轉換 H T \n",
    "        for i in range(len(num)):\n",
    "            if num[i]=='0':\n",
    "                num[i]='H'\n",
    "            else:\n",
    "                num[i]='T'\n",
    "        num = \"\".join(num)#將串列轉型為字串\n",
    "        print(f'Nine_Coins: {num}') \n",
    "    \n",
    "    def __str__(self):\n",
    "        #以temp暫存，使其在運算時不會影響self.num\n",
    "        temp=int(self.num)\n",
    "        temp=format(temp,'b')\n",
    "        z='0'*(9-len(temp))\n",
    "        temp=z+temp\n",
    "        return f'binary:{temp} and decimal: {self.num}'\n",
    "    \n",
    "    #設定函式\n",
    "    def toss(self):\n",
    "        #隨機賦予新值\n",
    "        self.num = random.randint(0,512)\n",
    "        temp=self.num\n",
    "        temp=format(temp,'b')\n",
    "        z='0'*(9-len(temp))\n",
    "        temp=z+temp\n",
    "        temp=list(temp)\n",
    "        for i in range(len(temp)):\n",
    "            if temp[i]=='0':\n",
    "                temp[i]='H'\n",
    "            else:\n",
    "                temp[i]='T'\n",
    "        temp= \"\".join(temp)\n",
    "        print(f'Nine_Coins: {temp}') "
   ]
  }
 ],
 "metadata": {
  "kernelspec": {
   "display_name": "Python 3",
   "language": "python",
   "name": "python3"
  },
  "language_info": {
   "codemirror_mode": {
    "name": "ipython",
    "version": 3
   },
   "file_extension": ".py",
   "mimetype": "text/x-python",
   "name": "python",
   "nbconvert_exporter": "python",
   "pygments_lexer": "ipython3",
   "version": "3.8.10"
  }
 },
 "nbformat": 4,
 "nbformat_minor": 5
}
