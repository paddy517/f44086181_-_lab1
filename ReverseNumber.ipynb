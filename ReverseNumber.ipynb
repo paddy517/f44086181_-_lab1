{
 "cells": [
  {
   "cell_type": "code",
   "execution_count": 1,
   "id": "950f861f",
   "metadata": {},
   "outputs": [],
   "source": [
    "#設定轉換函式\n",
    "def reverse(number):\n",
    "    num=[]#以串列承接    \n",
    "    while(number>0):\n",
    "        #去除最末數字\n",
    "        temp=number%10\n",
    "        number=number // 10\n",
    "        num.extend(str(temp))\n",
    "    #輸出時去除換行符\n",
    "    for i in num:\n",
    "        print(i,end='')"
   ]
  },
  {
   "cell_type": "code",
   "execution_count": 2,
   "id": "2cad2560",
   "metadata": {},
   "outputs": [
    {
     "name": "stdout",
     "output_type": "stream",
     "text": [
      "Enter an integer:51020\n",
      "02015"
     ]
    }
   ],
   "source": [
    "num = int(input('Enter an integer:'))\n",
    "reverse(num)"
   ]
  }
 ],
 "metadata": {
  "kernelspec": {
   "display_name": "Python 3",
   "language": "python",
   "name": "python3"
  },
  "language_info": {
   "codemirror_mode": {
    "name": "ipython",
    "version": 3
   },
   "file_extension": ".py",
   "mimetype": "text/x-python",
   "name": "python",
   "nbconvert_exporter": "python",
   "pygments_lexer": "ipython3",
   "version": "3.8.10"
  }
 },
 "nbformat": 4,
 "nbformat_minor": 5
}
