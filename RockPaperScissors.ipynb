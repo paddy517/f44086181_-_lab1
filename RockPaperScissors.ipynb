{
 "cells": [
  {
   "cell_type": "code",
   "execution_count": 4,
   "id": "82c568f8",
   "metadata": {},
   "outputs": [],
   "source": [
    "import random\n",
    "\n",
    "#創建串列\n",
    "rps=['ROCK','PAPER','SCISSORS']\n",
    "game=True\n",
    "w=0\n",
    "l=0\n",
    "t=0"
   ]
  },
  {
   "cell_type": "code",
   "execution_count": 5,
   "id": "ad607dd1",
   "metadata": {},
   "outputs": [
    {
     "name": "stdout",
     "output_type": "stream",
     "text": [
      "Welcome to ROCK, PAPER, SCISSORS game!\n",
      "Enter your move: (r)ock (p)aper (s)cissorsr\n",
      "ROCK versus...\n",
      "ROCK\n",
      "It is a tie!\n",
      "Enter your move: (r)ock (p)aper (s)cissorss\n",
      "SCISSORS versus...\n",
      "SCISSORS\n",
      "It is a tie!\n",
      "Enter your move: (r)ock (p)aper (s)cissorsp\n",
      "PAPER versus...\n",
      "PAPER\n",
      "It is a tie!\n",
      "Enter your move: (r)ock (p)aper (s)cissorsp\n",
      "PAPER versus...\n",
      "ROCK\n",
      "You win!\n",
      "You have 3 ties and 0 losses before your first win.\n"
     ]
    }
   ],
   "source": [
    "print('Welcome to ROCK, PAPER, SCISSORS game!')\n",
    "while(game):\n",
    "    #隨機賦值\n",
    "    com_rps=rps[random.randint(0,2)]\n",
    "    #輸入\n",
    "    player=input('Enter your move: (r)ock (p)aper (s)cissors')\n",
    "    #將輸入轉換\n",
    "    if player == 'r':\n",
    "        player='ROCK'\n",
    "    elif player == 'p':\n",
    "        player ='PAPER'\n",
    "    elif player == 's':\n",
    "        player = 'SCISSORS'\n",
    "    print(f'{player} versus...')\n",
    "    print(com_rps)\n",
    "    #判斷勝負\n",
    "    if ((com_rps=='ROCK' and player == 'SCISSORS') or (com_rps=='SCISSORS' and player == 'PAPER') \n",
    "    or (com_rps=='PAPER' and player == 'ROCK')):\n",
    "        print('You lose!')\n",
    "        l+=1\n",
    "    elif com_rps == player:\n",
    "        print('It is a tie!')\n",
    "        t+=1\n",
    "    else:\n",
    "        #獲勝跳出迴圈\n",
    "        game= False\n",
    "        print('You win!')\n",
    "        print(f'You have {t} ties and {l} losses before your first win.')\n",
    "        w=0\n",
    "        l=0\n",
    "        t=0"
   ]
  },
  {
   "cell_type": "code",
   "execution_count": null,
   "id": "16605e6d",
   "metadata": {},
   "outputs": [],
   "source": []
  }
 ],
 "metadata": {
  "kernelspec": {
   "display_name": "Python 3",
   "language": "python",
   "name": "python3"
  },
  "language_info": {
   "codemirror_mode": {
    "name": "ipython",
    "version": 3
   },
   "file_extension": ".py",
   "mimetype": "text/x-python",
   "name": "python",
   "nbconvert_exporter": "python",
   "pygments_lexer": "ipython3",
   "version": "3.8.10"
  }
 },
 "nbformat": 4,
 "nbformat_minor": 5
}
