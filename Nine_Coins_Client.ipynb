{
 "cells": [
  {
   "cell_type": "code",
   "execution_count": 2,
   "id": "844f39ad",
   "metadata": {},
   "outputs": [
    {
     "name": "stdout",
     "output_type": "stream",
     "text": [
      "Nine_Coins: HHHHHHTTT\n",
      "binary:000000111 and decimal: 7\n",
      "Nine_Coins: HHHTHTTHH\n",
      "binary:000101100 and decimal: 44\n",
      "Nine_Coins: HTTHHTHTT\n",
      "binary:011001011 and decimal: 203\n"
     ]
    }
   ],
   "source": [
    "#使用 nine_coins module 裡面的 Nine_Coins class\n",
    "from nine_coins import Nine_Coins\n",
    "\n",
    "c = Nine_Coins(7)\n",
    "c\n",
    "print(c)\n",
    "c.toss()\n",
    "c\n",
    "print(c)\n",
    "c.toss()\n",
    "c\n",
    "print(c)"
   ]
  },
  {
   "cell_type": "code",
   "execution_count": null,
   "id": "b1195064",
   "metadata": {},
   "outputs": [],
   "source": []
  }
 ],
 "metadata": {
  "kernelspec": {
   "display_name": "Python 3",
   "language": "python",
   "name": "python3"
  },
  "language_info": {
   "codemirror_mode": {
    "name": "ipython",
    "version": 3
   },
   "file_extension": ".py",
   "mimetype": "text/x-python",
   "name": "python",
   "nbconvert_exporter": "python",
   "pygments_lexer": "ipython3",
   "version": "3.8.10"
  }
 },
 "nbformat": 4,
 "nbformat_minor": 5
}
